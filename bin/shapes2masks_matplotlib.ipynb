{
 "metadata": {
  "name": ""
 },
 "nbformat": 3,
 "nbformat_minor": 0,
 "worksheets": [
  {
   "cells": [
    {
     "cell_type": "code",
     "collapsed": false,
     "input": [
      "%matplotlib inline\n",
      "import numpy as np\n",
      "from matplotlib.patches import PathPatch\n",
      "from matplotlib.path import Path\n",
      "import matplotlib.pyplot as plt"
     ],
     "language": "python",
     "metadata": {},
     "outputs": [],
     "prompt_number": 3
    },
    {
     "cell_type": "code",
     "collapsed": false,
     "input": [
      "# generate some fake data\n",
      "xmin, xmax, ymin, ymax = -10, 30, -4, 20\n",
      "y,x = np.mgrid[ymin:ymax+1,xmin:xmax+1]\n",
      "z = (x-(xmin+xmax)/2)**2 + (y-(ymin + ymax)/2)**2\n",
      "extent = [xmin-.5, xmax+.5, ymin-.5, ymax+.5]\n",
      "xr, yr = [np.random.random_integers(lo, hi, 5) for lo, hi\n",
      "         in ((xmin, xmax), (ymin, ymax))] # generates 3 random integers within the bounds to create a polygon."
     ],
     "language": "python",
     "metadata": {},
     "outputs": [],
     "prompt_number": 62
    },
    {
     "cell_type": "code",
     "collapsed": false,
     "input": [
      "print xr, yr"
     ],
     "language": "python",
     "metadata": {},
     "outputs": [
      {
       "output_type": "stream",
       "stream": "stdout",
       "text": [
        "[-1 28 21  4  8] [-2  9  3  1 15]\n"
       ]
      }
     ],
     "prompt_number": 63
    },
    {
     "cell_type": "code",
     "collapsed": false,
     "input": [
      "coordlist = np.vstack((xr, yr)).T  # create an Nx2 array of coordinates\n",
      "coord_map = np.vstack((x.flatten(), y.flatten())).T # create an Mx2 array listing all the coordinates in field"
     ],
     "language": "python",
     "metadata": {},
     "outputs": [],
     "prompt_number": 64
    },
    {
     "cell_type": "code",
     "collapsed": false,
     "input": [
      "print coord_map"
     ],
     "language": "python",
     "metadata": {},
     "outputs": [
      {
       "output_type": "stream",
       "stream": "stdout",
       "text": [
        "[[-10  -4]\n",
        " [ -9  -4]\n",
        " [ -8  -4]\n",
        " ..., \n",
        " [ 28  20]\n",
        " [ 29  20]\n",
        " [ 30  20]]\n"
       ]
      }
     ],
     "prompt_number": 70
    },
    {
     "cell_type": "code",
     "collapsed": false,
     "input": [
      "polypath = Path(coordlist)\n",
      "mask = polypath.contains_points(coord_map, radius=0.0).reshape(x.shape) # have mpl figure out which coords are within the contour"
     ],
     "language": "python",
     "metadata": {},
     "outputs": [],
     "prompt_number": 67
    },
    {
     "cell_type": "code",
     "collapsed": false,
     "input": [
      "f, ax = plt.subplots(1,1)\n",
      "ax.imshow(z, extent=extent, interpolation='none', origin='lower', cmap='hot')\n",
      "ax.imshow(mask, interpolation='none', extent=extent, origin='lower', alpha=.5, cmap='gray')\n",
      "patch = PathPatch(polypath, facecolor='g', alpha=.5)\n",
      "ax.add_patch(patch)\n",
      "plt.show()\n",
      "#print(z[mask].sum())  # prints out the total accumulated"
     ],
     "language": "python",
     "metadata": {},
     "outputs": [
      {
       "metadata": {},
       "output_type": "display_data",
       "png": "[encoded data removed]",
       "text": [
        "<matplotlib.figure.Figure at 0x7f953e54a910>"
       ]
      }
     ],
     "prompt_number": 68
    },
    {
     "cell_type": "code",
     "collapsed": false,
     "input": [
      "plt.imshow(mask, interpolation='none')"
     ],
     "language": "python",
     "metadata": {},
     "outputs": [
      {
       "metadata": {},
       "output_type": "pyout",
       "prompt_number": 49,
       "text": [
        "<matplotlib.image.AxesImage at 0x7f953e5df510>"
       ]
      },
      {
       "metadata": {},
       "output_type": "display_data",
       "png": "[encoded data removed]",
       "text": [
        "<matplotlib.figure.Figure at 0x7f953e50e650>"
       ]
      }
     ],
     "prompt_number": 49
    },
    {
     "cell_type": "code",
     "collapsed": false,
     "input": [],
     "language": "python",
     "metadata": {},
     "outputs": []
    }
   ],
   "metadata": {}
  }
 ]
}